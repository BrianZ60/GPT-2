{
  "cells": [
    {
      "cell_type": "markdown",
      "id": "8672db3b",
      "metadata": {
        "id": "8672db3b"
      },
      "source": [
        "We can load the hugging face gpt-2 model:"
      ]
    },
    {
      "cell_type": "code",
      "execution_count": 38,
      "id": "cdf99031",
      "metadata": {
        "id": "cdf99031"
      },
      "outputs": [],
      "source": [
        "from transformers import GPT2LMHeadModel"
      ]
    },
    {
      "cell_type": "markdown",
      "id": "R47Y04w6eR7f",
      "metadata": {
        "id": "R47Y04w6eR7f"
      },
      "source": [
        "Let's take a look at the parameters"
      ]
    },
    {
      "cell_type": "code",
      "execution_count": 39,
      "id": "b25cf126",
      "metadata": {
        "colab": {
          "base_uri": "https://localhost:8080/"
        },
        "id": "b25cf126",
        "outputId": "85b5c9c4-abcf-43b8-d079-602828da1c43"
      },
      "outputs": [
        {
          "name": "stdout",
          "output_type": "stream",
          "text": [
            "transformer.wte.weight torch.Size([50257, 768])\n",
            "transformer.wpe.weight torch.Size([1024, 768])\n",
            "transformer.h.0.ln_1.weight torch.Size([768])\n",
            "transformer.h.0.ln_1.bias torch.Size([768])\n",
            "transformer.h.0.attn.c_attn.weight torch.Size([768, 2304])\n",
            "transformer.h.0.attn.c_attn.bias torch.Size([2304])\n",
            "transformer.h.0.attn.c_proj.weight torch.Size([768, 768])\n",
            "transformer.h.0.attn.c_proj.bias torch.Size([768])\n",
            "transformer.h.0.ln_2.weight torch.Size([768])\n",
            "transformer.h.0.ln_2.bias torch.Size([768])\n",
            "transformer.h.0.mlp.c_fc.weight torch.Size([768, 3072])\n",
            "transformer.h.0.mlp.c_fc.bias torch.Size([3072])\n",
            "transformer.h.0.mlp.c_proj.weight torch.Size([3072, 768])\n",
            "transformer.h.0.mlp.c_proj.bias torch.Size([768])\n",
            "transformer.h.1.ln_1.weight torch.Size([768])\n",
            "transformer.h.1.ln_1.bias torch.Size([768])\n",
            "transformer.h.1.attn.c_attn.weight torch.Size([768, 2304])\n",
            "transformer.h.1.attn.c_attn.bias torch.Size([2304])\n",
            "transformer.h.1.attn.c_proj.weight torch.Size([768, 768])\n",
            "transformer.h.1.attn.c_proj.bias torch.Size([768])\n",
            "transformer.h.1.ln_2.weight torch.Size([768])\n",
            "transformer.h.1.ln_2.bias torch.Size([768])\n",
            "transformer.h.1.mlp.c_fc.weight torch.Size([768, 3072])\n",
            "transformer.h.1.mlp.c_fc.bias torch.Size([3072])\n",
            "transformer.h.1.mlp.c_proj.weight torch.Size([3072, 768])\n",
            "transformer.h.1.mlp.c_proj.bias torch.Size([768])\n",
            "transformer.h.2.ln_1.weight torch.Size([768])\n",
            "transformer.h.2.ln_1.bias torch.Size([768])\n",
            "transformer.h.2.attn.c_attn.weight torch.Size([768, 2304])\n",
            "transformer.h.2.attn.c_attn.bias torch.Size([2304])\n",
            "transformer.h.2.attn.c_proj.weight torch.Size([768, 768])\n",
            "transformer.h.2.attn.c_proj.bias torch.Size([768])\n",
            "transformer.h.2.ln_2.weight torch.Size([768])\n",
            "transformer.h.2.ln_2.bias torch.Size([768])\n",
            "transformer.h.2.mlp.c_fc.weight torch.Size([768, 3072])\n",
            "transformer.h.2.mlp.c_fc.bias torch.Size([3072])\n",
            "transformer.h.2.mlp.c_proj.weight torch.Size([3072, 768])\n",
            "transformer.h.2.mlp.c_proj.bias torch.Size([768])\n",
            "transformer.h.3.ln_1.weight torch.Size([768])\n",
            "transformer.h.3.ln_1.bias torch.Size([768])\n",
            "transformer.h.3.attn.c_attn.weight torch.Size([768, 2304])\n",
            "transformer.h.3.attn.c_attn.bias torch.Size([2304])\n",
            "transformer.h.3.attn.c_proj.weight torch.Size([768, 768])\n",
            "transformer.h.3.attn.c_proj.bias torch.Size([768])\n",
            "transformer.h.3.ln_2.weight torch.Size([768])\n",
            "transformer.h.3.ln_2.bias torch.Size([768])\n",
            "transformer.h.3.mlp.c_fc.weight torch.Size([768, 3072])\n",
            "transformer.h.3.mlp.c_fc.bias torch.Size([3072])\n",
            "transformer.h.3.mlp.c_proj.weight torch.Size([3072, 768])\n",
            "transformer.h.3.mlp.c_proj.bias torch.Size([768])\n",
            "transformer.h.4.ln_1.weight torch.Size([768])\n",
            "transformer.h.4.ln_1.bias torch.Size([768])\n",
            "transformer.h.4.attn.c_attn.weight torch.Size([768, 2304])\n",
            "transformer.h.4.attn.c_attn.bias torch.Size([2304])\n",
            "transformer.h.4.attn.c_proj.weight torch.Size([768, 768])\n",
            "transformer.h.4.attn.c_proj.bias torch.Size([768])\n",
            "transformer.h.4.ln_2.weight torch.Size([768])\n",
            "transformer.h.4.ln_2.bias torch.Size([768])\n",
            "transformer.h.4.mlp.c_fc.weight torch.Size([768, 3072])\n",
            "transformer.h.4.mlp.c_fc.bias torch.Size([3072])\n",
            "transformer.h.4.mlp.c_proj.weight torch.Size([3072, 768])\n",
            "transformer.h.4.mlp.c_proj.bias torch.Size([768])\n",
            "transformer.h.5.ln_1.weight torch.Size([768])\n",
            "transformer.h.5.ln_1.bias torch.Size([768])\n",
            "transformer.h.5.attn.c_attn.weight torch.Size([768, 2304])\n",
            "transformer.h.5.attn.c_attn.bias torch.Size([2304])\n",
            "transformer.h.5.attn.c_proj.weight torch.Size([768, 768])\n",
            "transformer.h.5.attn.c_proj.bias torch.Size([768])\n",
            "transformer.h.5.ln_2.weight torch.Size([768])\n",
            "transformer.h.5.ln_2.bias torch.Size([768])\n",
            "transformer.h.5.mlp.c_fc.weight torch.Size([768, 3072])\n",
            "transformer.h.5.mlp.c_fc.bias torch.Size([3072])\n",
            "transformer.h.5.mlp.c_proj.weight torch.Size([3072, 768])\n",
            "transformer.h.5.mlp.c_proj.bias torch.Size([768])\n",
            "transformer.h.6.ln_1.weight torch.Size([768])\n",
            "transformer.h.6.ln_1.bias torch.Size([768])\n",
            "transformer.h.6.attn.c_attn.weight torch.Size([768, 2304])\n",
            "transformer.h.6.attn.c_attn.bias torch.Size([2304])\n",
            "transformer.h.6.attn.c_proj.weight torch.Size([768, 768])\n",
            "transformer.h.6.attn.c_proj.bias torch.Size([768])\n",
            "transformer.h.6.ln_2.weight torch.Size([768])\n",
            "transformer.h.6.ln_2.bias torch.Size([768])\n",
            "transformer.h.6.mlp.c_fc.weight torch.Size([768, 3072])\n",
            "transformer.h.6.mlp.c_fc.bias torch.Size([3072])\n",
            "transformer.h.6.mlp.c_proj.weight torch.Size([3072, 768])\n",
            "transformer.h.6.mlp.c_proj.bias torch.Size([768])\n",
            "transformer.h.7.ln_1.weight torch.Size([768])\n",
            "transformer.h.7.ln_1.bias torch.Size([768])\n",
            "transformer.h.7.attn.c_attn.weight torch.Size([768, 2304])\n",
            "transformer.h.7.attn.c_attn.bias torch.Size([2304])\n",
            "transformer.h.7.attn.c_proj.weight torch.Size([768, 768])\n",
            "transformer.h.7.attn.c_proj.bias torch.Size([768])\n",
            "transformer.h.7.ln_2.weight torch.Size([768])\n",
            "transformer.h.7.ln_2.bias torch.Size([768])\n",
            "transformer.h.7.mlp.c_fc.weight torch.Size([768, 3072])\n",
            "transformer.h.7.mlp.c_fc.bias torch.Size([3072])\n",
            "transformer.h.7.mlp.c_proj.weight torch.Size([3072, 768])\n",
            "transformer.h.7.mlp.c_proj.bias torch.Size([768])\n",
            "transformer.h.8.ln_1.weight torch.Size([768])\n",
            "transformer.h.8.ln_1.bias torch.Size([768])\n",
            "transformer.h.8.attn.c_attn.weight torch.Size([768, 2304])\n",
            "transformer.h.8.attn.c_attn.bias torch.Size([2304])\n",
            "transformer.h.8.attn.c_proj.weight torch.Size([768, 768])\n",
            "transformer.h.8.attn.c_proj.bias torch.Size([768])\n",
            "transformer.h.8.ln_2.weight torch.Size([768])\n",
            "transformer.h.8.ln_2.bias torch.Size([768])\n",
            "transformer.h.8.mlp.c_fc.weight torch.Size([768, 3072])\n",
            "transformer.h.8.mlp.c_fc.bias torch.Size([3072])\n",
            "transformer.h.8.mlp.c_proj.weight torch.Size([3072, 768])\n",
            "transformer.h.8.mlp.c_proj.bias torch.Size([768])\n",
            "transformer.h.9.ln_1.weight torch.Size([768])\n",
            "transformer.h.9.ln_1.bias torch.Size([768])\n",
            "transformer.h.9.attn.c_attn.weight torch.Size([768, 2304])\n",
            "transformer.h.9.attn.c_attn.bias torch.Size([2304])\n",
            "transformer.h.9.attn.c_proj.weight torch.Size([768, 768])\n",
            "transformer.h.9.attn.c_proj.bias torch.Size([768])\n",
            "transformer.h.9.ln_2.weight torch.Size([768])\n",
            "transformer.h.9.ln_2.bias torch.Size([768])\n",
            "transformer.h.9.mlp.c_fc.weight torch.Size([768, 3072])\n",
            "transformer.h.9.mlp.c_fc.bias torch.Size([3072])\n",
            "transformer.h.9.mlp.c_proj.weight torch.Size([3072, 768])\n",
            "transformer.h.9.mlp.c_proj.bias torch.Size([768])\n",
            "transformer.h.10.ln_1.weight torch.Size([768])\n",
            "transformer.h.10.ln_1.bias torch.Size([768])\n",
            "transformer.h.10.attn.c_attn.weight torch.Size([768, 2304])\n",
            "transformer.h.10.attn.c_attn.bias torch.Size([2304])\n",
            "transformer.h.10.attn.c_proj.weight torch.Size([768, 768])\n",
            "transformer.h.10.attn.c_proj.bias torch.Size([768])\n",
            "transformer.h.10.ln_2.weight torch.Size([768])\n",
            "transformer.h.10.ln_2.bias torch.Size([768])\n",
            "transformer.h.10.mlp.c_fc.weight torch.Size([768, 3072])\n",
            "transformer.h.10.mlp.c_fc.bias torch.Size([3072])\n",
            "transformer.h.10.mlp.c_proj.weight torch.Size([3072, 768])\n",
            "transformer.h.10.mlp.c_proj.bias torch.Size([768])\n",
            "transformer.h.11.ln_1.weight torch.Size([768])\n",
            "transformer.h.11.ln_1.bias torch.Size([768])\n",
            "transformer.h.11.attn.c_attn.weight torch.Size([768, 2304])\n",
            "transformer.h.11.attn.c_attn.bias torch.Size([2304])\n",
            "transformer.h.11.attn.c_proj.weight torch.Size([768, 768])\n",
            "transformer.h.11.attn.c_proj.bias torch.Size([768])\n",
            "transformer.h.11.ln_2.weight torch.Size([768])\n",
            "transformer.h.11.ln_2.bias torch.Size([768])\n",
            "transformer.h.11.mlp.c_fc.weight torch.Size([768, 3072])\n",
            "transformer.h.11.mlp.c_fc.bias torch.Size([3072])\n",
            "transformer.h.11.mlp.c_proj.weight torch.Size([3072, 768])\n",
            "transformer.h.11.mlp.c_proj.bias torch.Size([768])\n",
            "transformer.ln_f.weight torch.Size([768])\n",
            "transformer.ln_f.bias torch.Size([768])\n",
            "lm_head.weight torch.Size([50257, 768])\n"
          ]
        }
      ],
      "source": [
        "model_hf = GPT2LMHeadModel.from_pretrained(\"gpt2\")\n",
        "\n",
        "sd_hf = model_hf.state_dict()\n",
        "\n",
        "for key, value in sd_hf.items():\n",
        "    print(key, value.shape)"
      ]
    },
    {
      "cell_type": "markdown",
      "id": "qSKI1W1WhbuC",
      "metadata": {
        "id": "qSKI1W1WhbuC"
      },
      "source": [
        "Generate some text:"
      ]
    },
    {
      "cell_type": "code",
      "execution_count": 40,
      "id": "f64bebcc",
      "metadata": {
        "colab": {
          "base_uri": "https://localhost:8080/"
        },
        "id": "f64bebcc",
        "outputId": "53462ff0-029f-49f8-b841-a6c3dbaf5070"
      },
      "outputs": [
        {
          "name": "stderr",
          "output_type": "stream",
          "text": [
            "Device set to use cpu\n",
            "Setting `pad_token_id` to `eos_token_id`:50256 for open-end generation.\n"
          ]
        },
        {
          "data": {
            "text/plain": [
              "[{'generated_text': 'Hello, I\\'m a language model, but what I\\'m really trying to do is make everything a language. And this is where I\\'m really happy.\"\\n\\nThe language model is similar'},\n",
              " {'generated_text': \"Hello, I'm a language model, not a syntax model. I never got the chance to learn this idea. I've never been taught it in school, even in the '90s\"},\n",
              " {'generated_text': \"Hello, I'm a language model, and I've been working on this for a while. I am going to show you how to create a simple API to connect web apps with JSON in\"},\n",
              " {'generated_text': 'Hello, I\\'m a language model, not a system.\"\\n\\n\"But, my code is simple.\"\\n\\n\"Yes, but you\\'re not the only one. I have a'},\n",
              " {'generated_text': 'Hello, I\\'m a language model, I\\'m not a language model. I\\'m a language model.\"\\n\\n\"What? What is a language model?\"\\n\\n\"A language model'}]"
            ]
          },
          "execution_count": 40,
          "metadata": {},
          "output_type": "execute_result"
        }
      ],
      "source": [
        "from transformers import pipeline, set_seed\n",
        "generator = pipeline(\"text-generation\", model=\"gpt2\")\n",
        "\n",
        "set_seed(42)\n",
        "generator(\"Hello, I'm a language model,\", max_new_tokens=30, num_return_sequences=5)"
      ]
    },
    {
      "cell_type": "markdown",
      "id": "p6PLeqQKhgnt",
      "metadata": {
        "id": "p6PLeqQKhgnt"
      },
      "source": [
        "Tiny Shakespeare"
      ]
    },
    {
      "cell_type": "code",
      "execution_count": 41,
      "id": "FV_pJfpFus_3",
      "metadata": {
        "colab": {
          "base_uri": "https://localhost:8080/"
        },
        "id": "FV_pJfpFus_3",
        "outputId": "76a356dc-5feb-4b37-c37a-e72b5c76f6bc"
      },
      "outputs": [
        {
          "name": "stdout",
          "output_type": "stream",
          "text": [
            "--2025-08-09 22:14:13--  https://raw.githubusercontent.com/karpathy/char-rnn/master/data/tinyshakespeare/input.txt\n",
            "Resolving raw.githubusercontent.com (raw.githubusercontent.com)... 185.199.108.133, 185.199.109.133, 185.199.110.133, ...\n",
            "Connecting to raw.githubusercontent.com (raw.githubusercontent.com)|185.199.108.133|:443... connected.\n",
            "HTTP request sent, awaiting response... 200 OK\n",
            "Length: 1115394 (1.1M) [text/plain]\n",
            "Saving to: ‘input.txt’\n",
            "\n",
            "\rinput.txt             0%[                    ]       0  --.-KB/s               \rinput.txt           100%[===================>]   1.06M  --.-KB/s    in 0.06s   \n",
            "\n",
            "2025-08-09 22:14:14 (17.7 MB/s) - ‘input.txt’ saved [1115394/1115394]\n",
            "\n",
            "First Citizen:\n",
            "Before we proceed any further, hear me speak.\n",
            "\n",
            "All:\n",
            "Speak, speak.\n",
            "\n",
            "First Citizen:\n",
            "You\n"
          ]
        }
      ],
      "source": [
        "!wget https://raw.githubusercontent.com/karpathy/char-rnn/master/data/tinyshakespeare/input.txt\n",
        "\n",
        "with open(\"input.txt\", \"r\") as f:\n",
        "    text = f.read()\n",
        "\n",
        "data = text[:1000]\n",
        "print(data[:100])"
      ]
    },
    {
      "cell_type": "code",
      "execution_count": 42,
      "id": "SrWN9Cdb5XDv",
      "metadata": {
        "colab": {
          "base_uri": "https://localhost:8080/"
        },
        "id": "SrWN9Cdb5XDv",
        "outputId": "d1f41e23-4d97-4f52-a746-74b36f7580be"
      },
      "outputs": [
        {
          "name": "stdout",
          "output_type": "stream",
          "text": [
            "[5962, 22307, 25, 198, 8421, 356, 5120, 597, 2252, 11, 3285, 502, 2740, 13, 198, 198, 3237, 25, 198, 5248, 461, 11, 2740, 13]\n"
          ]
        }
      ],
      "source": [
        "import tiktoken\n",
        "enc = tiktoken.get_encoding(\"gpt2\")\n",
        "tokens = enc.encode(data)\n",
        "print(tokens[:24])"
      ]
    },
    {
      "cell_type": "markdown",
      "id": "FHess19U6ba-",
      "metadata": {
        "id": "FHess19U6ba-"
      },
      "source": [
        "But this is an 1D tensor, we want a (B, T) tensor to feed into the model as idx"
      ]
    },
    {
      "cell_type": "code",
      "execution_count": 54,
      "id": "_wgKG5YJ6fXk",
      "metadata": {
        "colab": {
          "base_uri": "https://localhost:8080/"
        },
        "id": "_wgKG5YJ6fXk",
        "outputId": "60d138f2-9439-458c-b9c0-2b435f7e466d"
      },
      "outputs": [
        {
          "name": "stdout",
          "output_type": "stream",
          "text": [
            "x: tensor([[ 5962, 22307,    25,   198,  8421,   356],\n",
            "        [ 5120,   597,  2252,    11,  3285,   502],\n",
            "        [ 2740,    13,   198,   198,  3237,    25],\n",
            "        [  198,  5248,   461,    11,  2740,    13]])\n",
            "y: tensor([[22307,    25,   198,  8421,   356,  5120],\n",
            "        [  597,  2252,    11,  3285,   502,  2740],\n",
            "        [   13,   198,   198,  3237,    25,   198],\n",
            "        [ 5248,   461,    11,  2740,    13,   198]])\n",
            "Batch: 1\n",
            "When input is [5962], the label is 22307\n",
            "When input is [5962, 22307], the label is 25\n",
            "When input is [5962, 22307, 25], the label is 198\n",
            "When input is [5962, 22307, 25, 198], the label is 8421\n",
            "When input is [5962, 22307, 25, 198, 8421], the label is 356\n",
            "When input is [5962, 22307, 25, 198, 8421, 356], the label is 5120\n",
            "\n",
            "Batch: 2\n",
            "When input is [5120], the label is 597\n",
            "When input is [5120, 597], the label is 2252\n",
            "When input is [5120, 597, 2252], the label is 11\n",
            "When input is [5120, 597, 2252, 11], the label is 3285\n",
            "When input is [5120, 597, 2252, 11, 3285], the label is 502\n",
            "When input is [5120, 597, 2252, 11, 3285, 502], the label is 2740\n",
            "\n",
            "Batch: 3\n",
            "When input is [2740], the label is 13\n",
            "When input is [2740, 13], the label is 198\n",
            "When input is [2740, 13, 198], the label is 198\n",
            "When input is [2740, 13, 198, 198], the label is 3237\n",
            "When input is [2740, 13, 198, 198, 3237], the label is 25\n",
            "When input is [2740, 13, 198, 198, 3237, 25], the label is 198\n",
            "\n",
            "Batch: 4\n",
            "When input is [198], the label is 5248\n",
            "When input is [198, 5248], the label is 461\n",
            "When input is [198, 5248, 461], the label is 11\n",
            "When input is [198, 5248, 461, 11], the label is 2740\n",
            "When input is [198, 5248, 461, 11, 2740], the label is 13\n",
            "When input is [198, 5248, 461, 11, 2740, 13], the label is 198\n",
            "\n"
          ]
        }
      ],
      "source": [
        "import torch\n",
        "buf = torch.tensor(tokens[:24 + 1])\n",
        "x = buf[:-1].view(4, 6) # input\n",
        "y = buf[1:].view(4, 6) # labels\n",
        "\n",
        "print(f\"x: {x}\")\n",
        "print(f\"y: {y}\")\n",
        "\n",
        "for b in range(4):\n",
        "  print(f\"Batch: {b+1}\")\n",
        "  for t in range(6):\n",
        "    print(f\"When input is {x[b, :t+1].tolist()}, the label is {y[b, t]}\")\n",
        "  print()"
      ]
    },
    {
      "cell_type": "code",
      "execution_count": 7,
      "id": "731bc7d8",
      "metadata": {},
      "outputs": [
        {
          "name": "stdout",
          "output_type": "stream",
          "text": [
            "Min Train Loss: 0.1\n",
            "Min Validation Loss: 10.964\n",
            "Max Hellaswag eval: 1.0\n"
          ]
        },
        {
          "data": {
            "image/png": "[encoded data removed]",
            "text/plain": [
              "<Figure size 1600x600 with 2 Axes>"
            ]
          },
          "metadata": {},
          "output_type": "display_data"
        }
      ],
      "source": [
        "# parse and visualize the logfile\n",
        "import numpy as np\n",
        "import matplotlib.pyplot as plt\n",
        "%matplotlib inline\n",
        "\n",
        "sz = \"124M\"\n",
        "\n",
        "loss_baseline = {\n",
        "    \"124M\": 3.2924,\n",
        "}[sz]\n",
        "hella2_baseline = { # HellaSwag for GPT-2\n",
        "    \"124M\": 0.294463,\n",
        "    \"350M\": 0.375224,\n",
        "    \"774M\": 0.431986,\n",
        "    \"1558M\": 0.488946,\n",
        "}[sz]\n",
        "hella3_baseline = { # HellaSwag for GPT-3\n",
        "    \"124M\": 0.337,\n",
        "    \"350M\": 0.436,\n",
        "    \"774M\": 0.510,\n",
        "    \"1558M\": 0.547,\n",
        "}[sz]\n",
        "\n",
        "# load the log file\n",
        "with open(\"log/log.txt\", \"r\") as f:\n",
        "    lines = f.readlines()\n",
        "\n",
        "# parse the individual lines, group by stream (train,val,hella)\n",
        "streams = {}\n",
        "for line in lines:\n",
        "    step, stream, val = line.strip().split()\n",
        "    if stream not in streams:\n",
        "        streams[stream] = {}\n",
        "    streams[stream][int(step)] = float(val)\n",
        "\n",
        "# convert each stream from {step: val} to (steps[], vals[])\n",
        "# so it's easier for plotting\n",
        "streams_xy = {}\n",
        "for k, v in streams.items():\n",
        "    # get all (step, val) items, sort them\n",
        "    xy = sorted(list(v.items()))\n",
        "    # unpack the list of tuples to tuple of lists\n",
        "    streams_xy[k] = list(zip(*xy))\n",
        "\n",
        "# create figure\n",
        "plt.figure(figsize=(16, 6))\n",
        "\n",
        "# Panel 1: losses: both train and val\n",
        "plt.subplot(121)\n",
        "xs, ys = streams_xy[\"train\"] # training loss\n",
        "ys = np.array(ys)\n",
        "plt.plot(xs, ys, label=f'nanogpt ({sz}) train loss')\n",
        "print(\"Min Train Loss:\", min(ys))\n",
        "xs, ys = streams_xy[\"val\"] # validation loss\n",
        "plt.plot(xs, ys, label=f'nanogpt ({sz}) val loss')\n",
        "# horizontal line at GPT-2 baseline\n",
        "if loss_baseline is not None:\n",
        "    plt.axhline(y=loss_baseline, color='r', linestyle='--', label=f\"OpenAI GPT-2 ({sz}) checkpoint val loss\")\n",
        "plt.xlabel(\"steps\")\n",
        "plt.ylabel(\"loss\")\n",
        "plt.yscale('log')\n",
        "plt.ylim(top=4.0)\n",
        "plt.legend()\n",
        "plt.title(\"Loss\")\n",
        "print(\"Min Validation Loss:\", min(ys))\n",
        "\n",
        "# Panel 2: HellaSwag eval\n",
        "plt.subplot(122)\n",
        "xs, ys = streams_xy[\"goldenswag\"] # HellaSwag eval\n",
        "ys = np.array(ys)\n",
        "plt.plot(xs, ys, label=f\"nanogpt ({sz})\")\n",
        "# horizontal line at GPT-2 baseline\n",
        "if hella2_baseline:\n",
        "    plt.axhline(y=hella2_baseline, color='r', linestyle='--', label=f\"OpenAI GPT-2 ({sz}) checkpoint\")\n",
        "if hella3_baseline:\n",
        "    plt.axhline(y=hella3_baseline, color='g', linestyle='--', label=f\"OpenAI GPT-3 ({sz}) checkpoint\")\n",
        "plt.xlabel(\"steps\")\n",
        "plt.ylabel(\"accuracy\")\n",
        "plt.legend()\n",
        "plt.title(\"HellaSwag eval\")\n",
        "print(\"Max Hellaswag eval:\", max(ys))"
      ]
    }
  ],
  "metadata": {
    "colab": {
      "provenance": []
    },
    "kernelspec": {
      "display_name": "Python 3",
      "language": "python",
      "name": "python3"
    },
    "language_info": {
      "codemirror_mode": {
        "name": "ipython",
        "version": 3
      },
      "file_extension": ".py",
      "mimetype": "text/x-python",
      "name": "python",
      "nbconvert_exporter": "python",
      "pygments_lexer": "ipython3",
      "version": "3.11.9"
    }
  },
  "nbformat": 4,
  "nbformat_minor": 5
}
