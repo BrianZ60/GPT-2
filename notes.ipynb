{
  "cells": [
    {
      "cell_type": "markdown",
      "id": "8672db3b",
      "metadata": {
        "id": "8672db3b"
      },
      "source": [
        "We can load the hugging face gpt-2 model:"
      ]
    },
    {
      "cell_type": "code",
      "execution_count": 1,
      "id": "cdf99031",
      "metadata": {
        "id": "cdf99031"
      },
      "outputs": [],
      "source": [
        "from transformers import GPT2LMHeadModel"
      ]
    },
    {
      "cell_type": "markdown",
      "id": "R47Y04w6eR7f",
      "metadata": {
        "id": "R47Y04w6eR7f"
      },
      "source": [
        "Let's take a look at the parameters of the 124M parameter model.\n",
        "\n",
        "This way, we can replicate their names and shapes into our model."
      ]
    },
    {
      "cell_type": "code",
      "execution_count": 2,
      "id": "b25cf126",
      "metadata": {
        "colab": {
          "base_uri": "https://localhost:8080/"
        },
        "id": "b25cf126",
        "outputId": "85b5c9c4-abcf-43b8-d079-602828da1c43"
      },
      "outputs": [
        {
          "name": "stdout",
          "output_type": "stream",
          "text": [
            "transformer.wte.weight torch.Size([50257, 768])\n",
            "transformer.wpe.weight torch.Size([1024, 768])\n",
            "transformer.h.0.ln_1.weight torch.Size([768])\n",
            "transformer.h.0.ln_1.bias torch.Size([768])\n",
            "transformer.h.0.attn.c_attn.weight torch.Size([768, 2304])\n",
            "transformer.h.0.attn.c_attn.bias torch.Size([2304])\n",
            "transformer.h.0.attn.c_proj.weight torch.Size([768, 768])\n",
            "transformer.h.0.attn.c_proj.bias torch.Size([768])\n",
            "transformer.h.0.ln_2.weight torch.Size([768])\n",
            "transformer.h.0.ln_2.bias torch.Size([768])\n",
            "transformer.h.0.mlp.c_fc.weight torch.Size([768, 3072])\n",
            "transformer.h.0.mlp.c_fc.bias torch.Size([3072])\n",
            "transformer.h.0.mlp.c_proj.weight torch.Size([3072, 768])\n",
            "transformer.h.0.mlp.c_proj.bias torch.Size([768])\n",
            "transformer.h.1.ln_1.weight torch.Size([768])\n",
            "transformer.h.1.ln_1.bias torch.Size([768])\n",
            "transformer.h.1.attn.c_attn.weight torch.Size([768, 2304])\n",
            "transformer.h.1.attn.c_attn.bias torch.Size([2304])\n",
            "transformer.h.1.attn.c_proj.weight torch.Size([768, 768])\n",
            "transformer.h.1.attn.c_proj.bias torch.Size([768])\n",
            "transformer.h.1.ln_2.weight torch.Size([768])\n",
            "transformer.h.1.ln_2.bias torch.Size([768])\n",
            "transformer.h.1.mlp.c_fc.weight torch.Size([768, 3072])\n",
            "transformer.h.1.mlp.c_fc.bias torch.Size([3072])\n",
            "transformer.h.1.mlp.c_proj.weight torch.Size([3072, 768])\n",
            "transformer.h.1.mlp.c_proj.bias torch.Size([768])\n",
            "transformer.h.2.ln_1.weight torch.Size([768])\n",
            "transformer.h.2.ln_1.bias torch.Size([768])\n",
            "transformer.h.2.attn.c_attn.weight torch.Size([768, 2304])\n",
            "transformer.h.2.attn.c_attn.bias torch.Size([2304])\n",
            "transformer.h.2.attn.c_proj.weight torch.Size([768, 768])\n",
            "transformer.h.2.attn.c_proj.bias torch.Size([768])\n",
            "transformer.h.2.ln_2.weight torch.Size([768])\n",
            "transformer.h.2.ln_2.bias torch.Size([768])\n",
            "transformer.h.2.mlp.c_fc.weight torch.Size([768, 3072])\n",
            "transformer.h.2.mlp.c_fc.bias torch.Size([3072])\n",
            "transformer.h.2.mlp.c_proj.weight torch.Size([3072, 768])\n",
            "transformer.h.2.mlp.c_proj.bias torch.Size([768])\n",
            "transformer.h.3.ln_1.weight torch.Size([768])\n",
            "transformer.h.3.ln_1.bias torch.Size([768])\n",
            "transformer.h.3.attn.c_attn.weight torch.Size([768, 2304])\n",
            "transformer.h.3.attn.c_attn.bias torch.Size([2304])\n",
            "transformer.h.3.attn.c_proj.weight torch.Size([768, 768])\n",
            "transformer.h.3.attn.c_proj.bias torch.Size([768])\n",
            "transformer.h.3.ln_2.weight torch.Size([768])\n",
            "transformer.h.3.ln_2.bias torch.Size([768])\n",
            "transformer.h.3.mlp.c_fc.weight torch.Size([768, 3072])\n",
            "transformer.h.3.mlp.c_fc.bias torch.Size([3072])\n",
            "transformer.h.3.mlp.c_proj.weight torch.Size([3072, 768])\n",
            "transformer.h.3.mlp.c_proj.bias torch.Size([768])\n",
            "transformer.h.4.ln_1.weight torch.Size([768])\n",
            "transformer.h.4.ln_1.bias torch.Size([768])\n",
            "transformer.h.4.attn.c_attn.weight torch.Size([768, 2304])\n",
            "transformer.h.4.attn.c_attn.bias torch.Size([2304])\n",
            "transformer.h.4.attn.c_proj.weight torch.Size([768, 768])\n",
            "transformer.h.4.attn.c_proj.bias torch.Size([768])\n",
            "transformer.h.4.ln_2.weight torch.Size([768])\n",
            "transformer.h.4.ln_2.bias torch.Size([768])\n",
            "transformer.h.4.mlp.c_fc.weight torch.Size([768, 3072])\n",
            "transformer.h.4.mlp.c_fc.bias torch.Size([3072])\n",
            "transformer.h.4.mlp.c_proj.weight torch.Size([3072, 768])\n",
            "transformer.h.4.mlp.c_proj.bias torch.Size([768])\n",
            "transformer.h.5.ln_1.weight torch.Size([768])\n",
            "transformer.h.5.ln_1.bias torch.Size([768])\n",
            "transformer.h.5.attn.c_attn.weight torch.Size([768, 2304])\n",
            "transformer.h.5.attn.c_attn.bias torch.Size([2304])\n",
            "transformer.h.5.attn.c_proj.weight torch.Size([768, 768])\n",
            "transformer.h.5.attn.c_proj.bias torch.Size([768])\n",
            "transformer.h.5.ln_2.weight torch.Size([768])\n",
            "transformer.h.5.ln_2.bias torch.Size([768])\n",
            "transformer.h.5.mlp.c_fc.weight torch.Size([768, 3072])\n",
            "transformer.h.5.mlp.c_fc.bias torch.Size([3072])\n",
            "transformer.h.5.mlp.c_proj.weight torch.Size([3072, 768])\n",
            "transformer.h.5.mlp.c_proj.bias torch.Size([768])\n",
            "transformer.h.6.ln_1.weight torch.Size([768])\n",
            "transformer.h.6.ln_1.bias torch.Size([768])\n",
            "transformer.h.6.attn.c_attn.weight torch.Size([768, 2304])\n",
            "transformer.h.6.attn.c_attn.bias torch.Size([2304])\n",
            "transformer.h.6.attn.c_proj.weight torch.Size([768, 768])\n",
            "transformer.h.6.attn.c_proj.bias torch.Size([768])\n",
            "transformer.h.6.ln_2.weight torch.Size([768])\n",
            "transformer.h.6.ln_2.bias torch.Size([768])\n",
            "transformer.h.6.mlp.c_fc.weight torch.Size([768, 3072])\n",
            "transformer.h.6.mlp.c_fc.bias torch.Size([3072])\n",
            "transformer.h.6.mlp.c_proj.weight torch.Size([3072, 768])\n",
            "transformer.h.6.mlp.c_proj.bias torch.Size([768])\n",
            "transformer.h.7.ln_1.weight torch.Size([768])\n",
            "transformer.h.7.ln_1.bias torch.Size([768])\n",
            "transformer.h.7.attn.c_attn.weight torch.Size([768, 2304])\n",
            "transformer.h.7.attn.c_attn.bias torch.Size([2304])\n",
            "transformer.h.7.attn.c_proj.weight torch.Size([768, 768])\n",
            "transformer.h.7.attn.c_proj.bias torch.Size([768])\n",
            "transformer.h.7.ln_2.weight torch.Size([768])\n",
            "transformer.h.7.ln_2.bias torch.Size([768])\n",
            "transformer.h.7.mlp.c_fc.weight torch.Size([768, 3072])\n",
            "transformer.h.7.mlp.c_fc.bias torch.Size([3072])\n",
            "transformer.h.7.mlp.c_proj.weight torch.Size([3072, 768])\n",
            "transformer.h.7.mlp.c_proj.bias torch.Size([768])\n",
            "transformer.h.8.ln_1.weight torch.Size([768])\n",
            "transformer.h.8.ln_1.bias torch.Size([768])\n",
            "transformer.h.8.attn.c_attn.weight torch.Size([768, 2304])\n",
            "transformer.h.8.attn.c_attn.bias torch.Size([2304])\n",
            "transformer.h.8.attn.c_proj.weight torch.Size([768, 768])\n",
            "transformer.h.8.attn.c_proj.bias torch.Size([768])\n",
            "transformer.h.8.ln_2.weight torch.Size([768])\n",
            "transformer.h.8.ln_2.bias torch.Size([768])\n",
            "transformer.h.8.mlp.c_fc.weight torch.Size([768, 3072])\n",
            "transformer.h.8.mlp.c_fc.bias torch.Size([3072])\n",
            "transformer.h.8.mlp.c_proj.weight torch.Size([3072, 768])\n",
            "transformer.h.8.mlp.c_proj.bias torch.Size([768])\n",
            "transformer.h.9.ln_1.weight torch.Size([768])\n",
            "transformer.h.9.ln_1.bias torch.Size([768])\n",
            "transformer.h.9.attn.c_attn.weight torch.Size([768, 2304])\n",
            "transformer.h.9.attn.c_attn.bias torch.Size([2304])\n",
            "transformer.h.9.attn.c_proj.weight torch.Size([768, 768])\n",
            "transformer.h.9.attn.c_proj.bias torch.Size([768])\n",
            "transformer.h.9.ln_2.weight torch.Size([768])\n",
            "transformer.h.9.ln_2.bias torch.Size([768])\n",
            "transformer.h.9.mlp.c_fc.weight torch.Size([768, 3072])\n",
            "transformer.h.9.mlp.c_fc.bias torch.Size([3072])\n",
            "transformer.h.9.mlp.c_proj.weight torch.Size([3072, 768])\n",
            "transformer.h.9.mlp.c_proj.bias torch.Size([768])\n",
            "transformer.h.10.ln_1.weight torch.Size([768])\n",
            "transformer.h.10.ln_1.bias torch.Size([768])\n",
            "transformer.h.10.attn.c_attn.weight torch.Size([768, 2304])\n",
            "transformer.h.10.attn.c_attn.bias torch.Size([2304])\n",
            "transformer.h.10.attn.c_proj.weight torch.Size([768, 768])\n",
            "transformer.h.10.attn.c_proj.bias torch.Size([768])\n",
            "transformer.h.10.ln_2.weight torch.Size([768])\n",
            "transformer.h.10.ln_2.bias torch.Size([768])\n",
            "transformer.h.10.mlp.c_fc.weight torch.Size([768, 3072])\n",
            "transformer.h.10.mlp.c_fc.bias torch.Size([3072])\n",
            "transformer.h.10.mlp.c_proj.weight torch.Size([3072, 768])\n",
            "transformer.h.10.mlp.c_proj.bias torch.Size([768])\n",
            "transformer.h.11.ln_1.weight torch.Size([768])\n",
            "transformer.h.11.ln_1.bias torch.Size([768])\n",
            "transformer.h.11.attn.c_attn.weight torch.Size([768, 2304])\n",
            "transformer.h.11.attn.c_attn.bias torch.Size([2304])\n",
            "transformer.h.11.attn.c_proj.weight torch.Size([768, 768])\n",
            "transformer.h.11.attn.c_proj.bias torch.Size([768])\n",
            "transformer.h.11.ln_2.weight torch.Size([768])\n",
            "transformer.h.11.ln_2.bias torch.Size([768])\n",
            "transformer.h.11.mlp.c_fc.weight torch.Size([768, 3072])\n",
            "transformer.h.11.mlp.c_fc.bias torch.Size([3072])\n",
            "transformer.h.11.mlp.c_proj.weight torch.Size([3072, 768])\n",
            "transformer.h.11.mlp.c_proj.bias torch.Size([768])\n",
            "transformer.ln_f.weight torch.Size([768])\n",
            "transformer.ln_f.bias torch.Size([768])\n",
            "lm_head.weight torch.Size([50257, 768])\n"
          ]
        }
      ],
      "source": [
        "model_hf = GPT2LMHeadModel.from_pretrained(\"gpt2\")\n",
        "\n",
        "sd_hf = model_hf.state_dict()\n",
        "\n",
        "for key, value in sd_hf.items():\n",
        "    print(key, value.shape)"
      ]
    },
    {
      "cell_type": "markdown",
      "id": "qSKI1W1WhbuC",
      "metadata": {
        "id": "qSKI1W1WhbuC"
      },
      "source": [
        "Generate some text:"
      ]
    },
    {
      "cell_type": "code",
      "execution_count": 7,
      "id": "f64bebcc",
      "metadata": {
        "colab": {
          "base_uri": "https://localhost:8080/"
        },
        "id": "f64bebcc",
        "outputId": "53462ff0-029f-49f8-b841-a6c3dbaf5070"
      },
      "outputs": [
        {
          "name": "stderr",
          "output_type": "stream",
          "text": [
            "Device set to use cpu\n",
            "Setting `pad_token_id` to `eos_token_id`:50256 for open-end generation.\n"
          ]
        },
        {
          "data": {
            "text/plain": [
              "[{'generated_text': \"Hello, I'm a language model, I'm a language model. In my mind, I'm doing the same thing as you. All these different people are thinking about the same thing.\"},\n",
              " {'generated_text': 'Hello, I\\'m a language model, and I\\'m trying to understand what you\\'re saying. In English, I have two English words: \"l\" and \"es.\" In Dutch,'},\n",
              " {'generated_text': \"Hello, I'm a language model, so I don't get much of a chance to interact with objects. But I did find that I can do things like check the state of a specific\"},\n",
              " {'generated_text': 'Hello, I\\'m a language model, a language model, a language model.\"'},\n",
              " {'generated_text': \"Hello, I'm a language model, not a toolkit.\\n\\nIn a nutshell, I need to give language models a set of properties that I could use to describe them in real\"}]"
            ]
          },
          "execution_count": 7,
          "metadata": {},
          "output_type": "execute_result"
        }
      ],
      "source": [
        "from transformers import pipeline, set_seed\n",
        "generator = pipeline(\"text-generation\", model=\"gpt2\")\n",
        "\n",
        "set_seed(42)\n",
        "generator(\"Hello, I'm a language model,\", max_new_tokens=30, num_return_sequences=5)"
      ]
    },
    {
      "cell_type": "markdown",
      "id": "p6PLeqQKhgnt",
      "metadata": {
        "id": "p6PLeqQKhgnt"
      },
      "source": [
        "Lets use Tiny Shakespeare to take a look at how to create \n",
        "batches to feed into our model"
      ]
    },
    {
      "cell_type": "code",
      "execution_count": 9,
      "id": "FV_pJfpFus_3",
      "metadata": {
        "colab": {
          "base_uri": "https://localhost:8080/"
        },
        "id": "FV_pJfpFus_3",
        "outputId": "76a356dc-5feb-4b37-c37a-e72b5c76f6bc"
      },
      "outputs": [
        {
          "name": "stdout",
          "output_type": "stream",
          "text": [
            "First Citizen:\n",
            "Before we proceed any further, hear me speak.\n",
            "\n",
            "All:\n",
            "Speak, speak.\n",
            "\n",
            "First Citizen:\n",
            "You\n"
          ]
        }
      ],
      "source": [
        "with open(\"input.txt\", \"r\") as f:\n",
        "    text = f.read()\n",
        "\n",
        "data = text[:1000]\n",
        "print(data[:100])"
      ]
    },
    {
      "cell_type": "markdown",
      "id": "ea600665",
      "metadata": {},
      "source": [
        "Tokenize the data:"
      ]
    },
    {
      "cell_type": "code",
      "execution_count": 10,
      "id": "SrWN9Cdb5XDv",
      "metadata": {
        "colab": {
          "base_uri": "https://localhost:8080/"
        },
        "id": "SrWN9Cdb5XDv",
        "outputId": "d1f41e23-4d97-4f52-a746-74b36f7580be"
      },
      "outputs": [
        {
          "name": "stdout",
          "output_type": "stream",
          "text": [
            "[5962, 22307, 25, 198, 8421, 356, 5120, 597, 2252, 11, 3285, 502, 2740, 13, 198, 198, 3237, 25, 198, 5248, 461, 11, 2740, 13]\n"
          ]
        }
      ],
      "source": [
        "import tiktoken\n",
        "enc = tiktoken.get_encoding(\"gpt2\")\n",
        "tokens = enc.encode(data)\n",
        "print(tokens[:24])"
      ]
    },
    {
      "cell_type": "markdown",
      "id": "FHess19U6ba-",
      "metadata": {
        "id": "FHess19U6ba-"
      },
      "source": [
        "But this is an 1D tensor, we want a (B, T) tensor to feed into the model."
      ]
    },
    {
      "cell_type": "code",
      "execution_count": 11,
      "id": "_wgKG5YJ6fXk",
      "metadata": {
        "colab": {
          "base_uri": "https://localhost:8080/"
        },
        "id": "_wgKG5YJ6fXk",
        "outputId": "60d138f2-9439-458c-b9c0-2b435f7e466d"
      },
      "outputs": [
        {
          "name": "stdout",
          "output_type": "stream",
          "text": [
            "x: tensor([[ 5962, 22307,    25,   198,  8421,   356],\n",
            "        [ 5120,   597,  2252,    11,  3285,   502],\n",
            "        [ 2740,    13,   198,   198,  3237,    25],\n",
            "        [  198,  5248,   461,    11,  2740,    13]])\n",
            "y: tensor([[22307,    25,   198,  8421,   356,  5120],\n",
            "        [  597,  2252,    11,  3285,   502,  2740],\n",
            "        [   13,   198,   198,  3237,    25,   198],\n",
            "        [ 5248,   461,    11,  2740,    13,   198]])\n",
            "Batch: 1\n",
            "When input is [5962], the label is 22307\n",
            "When input is [5962, 22307], the label is 25\n",
            "When input is [5962, 22307, 25], the label is 198\n",
            "When input is [5962, 22307, 25, 198], the label is 8421\n",
            "When input is [5962, 22307, 25, 198, 8421], the label is 356\n",
            "When input is [5962, 22307, 25, 198, 8421, 356], the label is 5120\n",
            "\n",
            "Batch: 2\n",
            "When input is [5120], the label is 597\n",
            "When input is [5120, 597], the label is 2252\n",
            "When input is [5120, 597, 2252], the label is 11\n",
            "When input is [5120, 597, 2252, 11], the label is 3285\n",
            "When input is [5120, 597, 2252, 11, 3285], the label is 502\n",
            "When input is [5120, 597, 2252, 11, 3285, 502], the label is 2740\n",
            "\n",
            "Batch: 3\n",
            "When input is [2740], the label is 13\n",
            "When input is [2740, 13], the label is 198\n",
            "When input is [2740, 13, 198], the label is 198\n",
            "When input is [2740, 13, 198, 198], the label is 3237\n",
            "When input is [2740, 13, 198, 198, 3237], the label is 25\n",
            "When input is [2740, 13, 198, 198, 3237, 25], the label is 198\n",
            "\n",
            "Batch: 4\n",
            "When input is [198], the label is 5248\n",
            "When input is [198, 5248], the label is 461\n",
            "When input is [198, 5248, 461], the label is 11\n",
            "When input is [198, 5248, 461, 11], the label is 2740\n",
            "When input is [198, 5248, 461, 11, 2740], the label is 13\n",
            "When input is [198, 5248, 461, 11, 2740, 13], the label is 198\n",
            "\n"
          ]
        }
      ],
      "source": [
        "import torch\n",
        "buf = torch.tensor(tokens[:24 + 1])\n",
        "x = buf[:-1].view(4, 6) # input\n",
        "y = buf[1:].view(4, 6) # labels\n",
        "\n",
        "print(f\"x: {x}\")\n",
        "print(f\"y: {y}\")\n",
        "\n",
        "for b in range(4):\n",
        "  print(f\"Batch: {b+1}\")\n",
        "  for t in range(6):\n",
        "    print(f\"When input is {x[b, :t+1].tolist()}, the label is {y[b, t]}\")\n",
        "  print()"
      ]
    },
    {
      "cell_type": "code",
      "execution_count": null,
      "id": "731bc7d8",
      "metadata": {},
      "outputs": [
        {
          "name": "stdout",
          "output_type": "stream",
          "text": [
            "Min Train Loss: 2.880896\n",
            "Min Validation Loss: 3.0938\n",
            "Max Hellaswag eval: 0.2616\n"
          ]
        },
        {
          "data": {
            "image/png": "[encoded data removed]",
            "text/plain": [
              "<Figure size 1600x600 with 2 Axes>"
            ]
          },
          "metadata": {},
          "output_type": "display_data"
        }
      ],
      "source": [
        "# parse and visualize the logfile\n",
        "import numpy as np\n",
        "import matplotlib.pyplot as plt\n",
        "%matplotlib inline\n",
        "\n",
        "sz = \"124M\"\n",
        "\n",
        "loss_baseline = {\n",
        "    \"124M\": 3.2924,\n",
        "}[sz]\n",
        "hella2_baseline = { # HellaSwag for GPT-2\n",
        "    \"124M\": 0.1390,\n",
        "    \"350M\": 0.375224,\n",
        "    \"774M\": 0.431986,\n",
        "    \"1558M\": 0.3469,\n",
        "}[sz]\n",
        "\n",
        "\n",
        "# load the log file\n",
        "with open(\"log/log.txt\", \"r\") as f:\n",
        "    lines = f.readlines()\n",
        "\n",
        "# parse the individual lines, group by stream (train,val,hella)\n",
        "streams = {}\n",
        "for line in lines:\n",
        "    step, stream, val = line.strip().split()\n",
        "    if stream not in streams:\n",
        "        streams[stream] = {}\n",
        "    streams[stream][int(step)] = float(val)\n",
        "\n",
        "# convert each stream from {step: val} to (steps[], vals[])\n",
        "# so it's easier for plotting\n",
        "streams_xy = {}\n",
        "for k, v in streams.items():\n",
        "    # get all (step, val) items, sort them\n",
        "    xy = sorted(list(v.items()))\n",
        "    # unpack the list of tuples to tuple of lists\n",
        "    streams_xy[k] = list(zip(*xy))\n",
        "\n",
        "# create figure\n",
        "plt.figure(figsize=(16, 6))\n",
        "\n",
        "# Panel 1: losses: both train and val\n",
        "plt.subplot(121)\n",
        "xs, ys = streams_xy[\"train\"] # training loss\n",
        "ys = np.array(ys)\n",
        "plt.plot(xs, ys, label=f'our GPT-2 ({sz}) train loss')\n",
        "print(\"Min Train Loss:\", min(ys))\n",
        "xs, ys = streams_xy[\"val\"] # validation loss\n",
        "plt.plot(xs, ys, label=f'our GPT-2 ({sz}) val loss')\n",
        "# horizontal line at GPT-2 baseline\n",
        "if loss_baseline is not None:\n",
        "    plt.axhline(y=loss_baseline, color='r', linestyle='--', label=f\"OpenAI GPT-2 ({sz}) checkpoint val loss\")\n",
        "plt.xlabel(\"steps\")\n",
        "plt.ylabel(\"loss\")\n",
        "plt.yscale('log')\n",
        "plt.ylim(top=4.0)\n",
        "plt.legend()\n",
        "plt.title(\"Loss\")\n",
        "print(\"Min Validation Loss:\", min(ys))\n",
        "\n",
        "# Panel 2: HellaSwag eval\n",
        "plt.subplot(122)\n",
        "xs, ys = streams_xy[\"goldenswag\"] # HellaSwag eval\n",
        "ys = np.array(ys)\n",
        "plt.plot(xs, ys, label=f\"our GPT-2 ({sz})\")\n",
        "# horizontal line at GPT-2 baseline\n",
        "if hella2_baseline:\n",
        "    plt.axhline(y=hella2_baseline, color='r', linestyle='--', label=f\"OpenAI GPT-2 ({sz}) checkpoint\")\n",
        "\n",
        "plt.xlabel(\"steps\")\n",
        "plt.ylabel(\"accuracy\")\n",
        "plt.legend()\n",
        "plt.title(\"HellaSwag eval\")\n",
        "print(\"Max Hellaswag eval:\", max(ys))"
      ]
    },
    {
      "cell_type": "markdown",
      "id": "c8559400",
      "metadata": {},
      "source": [
        "## Model Architecture:"
      ]
    },
    {
      "cell_type": "markdown",
      "id": "6a85c317",
      "metadata": {},
      "source": [
        "The GPT-2 (124M) parameter model has\n",
        "- a maximum sequence length of 1024 tokens\n",
        "- a vocabulary size of 50527 (total number of possible tokens)\n",
        "- 12 transformer blocks\n",
        "- 12 heads in multi-head attention\n",
        "- 768 length embedding vector for each token."
      ]
    },
    {
      "cell_type": "markdown",
      "id": "54f1d491",
      "metadata": {},
      "source": [
        "### Embedding layers"
      ]
    },
    {
      "cell_type": "markdown",
      "id": "c50ddca5",
      "metadata": {},
      "source": [
        "- Word token embeddings (wte)\n",
        "    - A lookup table for each token.\n",
        "    - maps each token to its embedding, a vector of size n_embd (768).\n",
        "    - Each embedding is a representation of its respective token that can be trained.\n",
        "- Word positional embeddings (wpe)\n",
        "    - Converts each token's positional index into a positional embedding. \n",
        "    - The wpe is trained to learn positional patterns that indices could not capture.\n"
      ]
    },
    {
      "cell_type": "markdown",
      "id": "1fc9ba85",
      "metadata": {},
      "source": [
        "### Transformer Blocks"
      ]
    },
    {
      "cell_type": "markdown",
      "id": "f72eb34b",
      "metadata": {},
      "source": [
        "Each transformer block has\n",
        "- Multi-head attention\n",
        "- Multilayer perception (MLP)\n",
        "- Layer Normalizations"
      ]
    },
    {
      "cell_type": "markdown",
      "id": "579c7d51",
      "metadata": {},
      "source": [
        "#### Mutli-head attention"
      ]
    },
    {
      "cell_type": "markdown",
      "id": "16588b04",
      "metadata": {},
      "source": [
        "To talk about multihead attention, we first have to talk about attention layers.\n",
        "\n",
        "Attention is a mechanism that allows the language model to weigh the relevance of other tokens to the token it is currently processing.\n",
        "- Ex: prompt = \"The quick brown fox jumps over the lazy dog\". When processing \"fox\", the model pays more attention (haha get it?) to \"quick\" and \"brown\".\n",
        "- When processing \"dog\", the model should care more about the token \"lazy\" than \"fox\". \n",
        "- For more information: https://arxiv.org/pdf/1706.03762\n",
        "\n",
        "We perform attention with the Query, Key, and Value vectors. These vectors are computed by multiplying the input, which has shape B (num of sequences), T (sequence length in tokens), C (num_embd), by the query, key, and value weight matrices.\n",
        "\n",
        "Note: B is just a batch dimension (it is the number of sequences), and it allows for the model to process multiple sequences in parallel. Thus, it doesn't affect the underlying math so we can drop it when explaining.\n",
        "\n",
        "This essentially transforms the embedding for each token into three vectors of length num_embd; T, C -> T, 3C.\n",
        "- Query (Q): What the token is looking for (search query)\n",
        "- Key (K): What kind of information this token has to offer (labels like titles or tags)\n",
        "- Value (V): The actual content you get (more on this soon)\n",
        "\n",
        "For each token, its Q vector is multiplied with every other token's K vector.\n",
        "- K has to be transposed from T, C to C, T so that we can do the dot product. (T, C) @ (C, T) -> (T, T).\n",
        "- Think of the T x T matrix as the relevance we computed between each pair of tokens; how much attention each token should pay to every other token (attention score).\n",
        "- The element at (i, j) in the T x T matrix is the dot product between the ith token's Q and the jth token's K.\n",
        "- The math: $$\\text{score}_{i,j} = Q_i \\cdot K_j = \\sum_{k=1}^{C} Q_{i,k}\\ K_{j,k}$$\n",
        "\n",
        "We then scale the attention matrix by $\\frac{1}{\\sqrt{C}}$ to prevent the dot product from growing too large.\n",
        "\n",
        "We mask the relevance between tokens and future tokens (tokens later in the sequence) so that tokens can only pay attention to itself and previous tokens. This way, the model can't cheat by looking ahead at tokens it shouldn't know yet (we are trying to predict the next token!)\n",
        "\n",
        "Since we have a T x T matrix, we use a triangular mask, which preserves only the lower triangle of the matrix; the elements in the upper triangle are set to -infinity.\n",
        "\n",
        "We did -inf instead of something like 0 because we now apply the softmax function to each row to convert the attention scores for each token into weights that sum to 1. \n",
        "\n",
        "The softmax function is\n",
        "$$\\text{softmax}(x_i) = \\frac{e^{x_i}}{\\sum_{j=1}^n e^{x_j}},$$\n",
        "where $x_i$ is the ith element of the row we are applying softmax on. The denominator sums over all elements in the row, making the outputs in the row sum to 1.\n",
        "\n",
        "Notice how if $x_i$ were -inf, softmax would output 0.\n",
        "\n",
        "We compute the dot product between each row of the TxT matrix of attention weights and the value matrix (just the collection of each token's value vector) to get the weighted sum over all value vectors. (T, T) @ (T, C) -> (T, C)\n",
        "\n",
        "Now, every token contributes to the new representation of each token, with some contributing more (higher attention weight), and some less (lower weight).\n",
        "\n",
        "Complete math: $$\\text{Attention}(Q, K, V) = \\text{softmax}\\left(\\frac{Q K^T}{\\sqrt{C}}\\right) V $$\n",
        "\n",
        "\n",
        "Multi-head attention is just having multiple attention \"heads\" doing these steps in parallel. Each head independently computes its own set of Q, K, V matrices, attention scores, and weighted sums.\n",
        "- Each head focuses on different parts of each token's embedding. The dimension of each head (C) would be n_embd / num_heads instead of n_embd.\n",
        "- The outputs of all heads are then concatenated back to the original embedding dimension.\n",
        "\n",
        "Finally, this is passed into a linear projection, which mixes the outputs from the heads together (we only concatenated them before)\n"
      ]
    },
    {
      "cell_type": "markdown",
      "id": "2d781e09",
      "metadata": {},
      "source": [
        "https://poloclub.github.io/transformer-explainer/ has a visual explanation."
      ]
    },
    {
      "cell_type": "markdown",
      "id": "1f4cd8f9",
      "metadata": {},
      "source": [
        "#### MLP"
      ]
    },
    {
      "cell_type": "markdown",
      "id": "db128a91",
      "metadata": {},
      "source": [
        "The MLP is the multi-layer perception, which is just a feedforward neural network. It processes each token independently after we do attention.\n",
        "- The first linear layer expands each token’s embedding from n_embd to 4*embd, which gives the model more dimensions for capturing complex patterns within the token.\n",
        "- A GELU activation is applied to introduce nonlinearity, allowing the network to learn rich, nonlinear relationships. GELU is ReLU but smoother so that gradients flow better.\n",
        "- GeLU v.s. ReLU:\n",
        "\n",
        "<div style=\"margin-left: 40px;\">\n",
        "    <img src=\"images/ReLU_vs_GELU.png\" \n",
        "         alt=\"GeLU vs ReLU\" width=\"500\">\n",
        "</div>\n",
        "\n",
        "- The second linear layer projects the token back to n_embd.\n",
        "\n",
        "Attention gives each token's representation (embedding), information from every other token (weighted by attention ofc).Then, the MLP takes this enriched representation and crafts a deeper representation of each token."
      ]
    },
    {
      "cell_type": "markdown",
      "id": "c5ceb1f5",
      "metadata": {},
      "source": [
        "#### Layer Normalization"
      ]
    },
    {
      "cell_type": "markdown",
      "id": "1c2416cc",
      "metadata": {},
      "source": [
        "Layer norms are in general just for stabilizing inputs/outputs and improving gradient flow; extreme values can destabilize training. They are typically applied after key steps.\n",
        "\n",
        "Layer norms are applied before and after the attention step. They make sure that the inputs to the attention layer and the MLP have zero mean and unit variance."
      ]
    }
  ],
  "metadata": {
    "colab": {
      "provenance": []
    },
    "kernelspec": {
      "display_name": "Python 3",
      "language": "python",
      "name": "python3"
    },
    "language_info": {
      "codemirror_mode": {
        "name": "ipython",
        "version": 3
      },
      "file_extension": ".py",
      "mimetype": "text/x-python",
      "name": "python",
      "nbconvert_exporter": "python",
      "pygments_lexer": "ipython3",
      "version": "3.11.9"
    }
  },
  "nbformat": 4,
  "nbformat_minor": 5
}
