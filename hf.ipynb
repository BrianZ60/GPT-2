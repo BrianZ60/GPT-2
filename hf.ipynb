{
  "cells": [
    {
      "cell_type": "markdown",
      "id": "8672db3b",
      "metadata": {
        "id": "8672db3b"
      },
      "source": [
        "We can load the hugging face gpt-2 model:"
      ]
    },
    {
      "cell_type": "code",
      "execution_count": null,
      "id": "cdf99031",
      "metadata": {
        "id": "cdf99031"
      },
      "outputs": [],
      "source": [
        "from transformers import GPT2LMHeadModel"
      ]
    },
    {
      "cell_type": "code",
      "execution_count": null,
      "id": "b25cf126",
      "metadata": {
        "id": "b25cf126",
        "outputId": "518eecca-d543-4a71-b15e-3501342472be",
        "colab": {
          "referenced_widgets": [
            "1e837ea393f84a17b182fc7427c7830b"
          ]
        }
      },
      "outputs": [
        {
          "data": {
            "application/vnd.jupyter.widget-view+json": {
              "model_id": "1e837ea393f84a17b182fc7427c7830b",
              "version_major": 2,
              "version_minor": 0
            },
            "text/plain": [
              "model.safetensors:   0%|          | 0.00/6.43G [00:00<?, ?B/s]"
            ]
          },
          "metadata": {},
          "output_type": "display_data"
        }
      ],
      "source": [
        "model_hf = GPT2LMHeadModel.from_pretrained(\"gpt2\")\n",
        "\n",
        "# sd_hf = model_hf.state_dict()\n",
        "\n",
        "# for key, value in sd_hf.items():\n",
        "    # print(key, value.shape)"
      ]
    },
    {
      "cell_type": "code",
      "execution_count": null,
      "id": "f64bebcc",
      "metadata": {
        "id": "f64bebcc"
      },
      "outputs": [],
      "source": []
    }
  ],
  "metadata": {
    "kernelspec": {
      "display_name": "Python 3",
      "language": "python",
      "name": "python3"
    },
    "language_info": {
      "codemirror_mode": {
        "name": "ipython",
        "version": 3
      },
      "file_extension": ".py",
      "mimetype": "text/x-python",
      "name": "python",
      "nbconvert_exporter": "python",
      "pygments_lexer": "ipython3",
      "version": "3.11.9"
    },
    "colab": {
      "provenance": []
    }
  },
  "nbformat": 4,
  "nbformat_minor": 5
}